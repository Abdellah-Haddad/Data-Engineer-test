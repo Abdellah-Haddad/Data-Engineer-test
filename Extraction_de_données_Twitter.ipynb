{
  "nbformat": 4,
  "nbformat_minor": 0,
  "metadata": {
    "colab": {
      "provenance": [],
      "authorship_tag": "ABX9TyMWLDBrOr8Ff9E1Sgawl3e9",
      "include_colab_link": true
    },
    "kernelspec": {
      "name": "python3",
      "display_name": "Python 3"
    },
    "language_info": {
      "name": "python"
    }
  },
  "cells": [
    {
      "cell_type": "markdown",
      "metadata": {
        "id": "view-in-github",
        "colab_type": "text"
      },
      "source": [
        "<a href=\"https://colab.research.google.com/github/Abdellah-Haddad/Data-Engineer-test/blob/main/Extraction_de_donn%C3%A9es_Twitter.ipynb\" target=\"_parent\"><img src=\"https://colab.research.google.com/assets/colab-badge.svg\" alt=\"Open In Colab\"/></a>"
      ]
    },
    {
      "cell_type": "code",
      "execution_count": 1,
      "metadata": {
        "id": "y9uvj3luRf7c"
      },
      "outputs": [],
      "source": [
        "import requests\n",
        "from bs4 import BeautifulSoup\n",
        "import re\n",
        "from datetime import datetime, timedelta"
      ]
    },
    {
      "cell_type": "code",
      "source": [
        "def get_tweets(username):\n",
        "    url = f\"https://twitter.com/{username}\"\n",
        "    headers = {\n",
        "        \"User-Agent\": \"Mozilla/5.0 (Windows NT 10.0; Win64; x64) AppleWebKit/537.36 (KHTML, like Gecko) Chrome/58.0.3029.110 Safari/537.3\"}\n",
        "    response = requests.get(url, headers=headers)\n",
        "    soup = BeautifulSoup(response.content, 'html.parser')\n",
        "    tweets = soup.find_all('div', attrs={\"data-testid\": \"tweet\"})\n",
        "    for tweet in tweets:\n",
        "        tweet_text = tweet.find('div', attrs={\"class\": \"css-901oao r-hkyrab r-1qd0xha r-a023e6 r-16dba41 r-ad9z0x r-bcqeeo r-bnwqim r-qvutc0\"}).text\n",
        "        print(\"Tweet:\", tweet_text)\n",
        "        # Ajout du nombre de likes\n",
        "        likes = tweet.find('div', attrs={\"class\": \"css-901oao r-1re7ezh r-1qd0xha r-n6v787 r-16dba41 r-1sf4r6n r-1jgb5lz r-1j3t67a r-19yat4t r-1vsu8ta r-18qmn74\"}).text\n",
        "        print(\"Likes:\", likes)\n",
        "        print(\"-\"*50)"
      ],
      "metadata": {
        "id": "sHQ-mljaR_oj"
      },
      "execution_count": 2,
      "outputs": []
    },
    {
      "cell_type": "code",
      "source": [
        "def get_metrics(username):\n",
        "    url = f\"https://twitter.com/{username}\"\n",
        "    headers = {\n",
        "        \"User-Agent\": \"Mozilla/5.0 (Windows NT 10.0; Win64; x64) AppleWebKit/537.36 (KHTML, like Gecko) Chrome/58.0.3029.110 Safari/537.3\"}\n",
        "    response = requests.get(url, headers=headers)\n",
        "    soup = BeautifulSoup(response.content, 'html.parser')\n",
        "    follower_count = soup.find('span', text=re.compile(r'[0-9]+ Followers'))\n",
        "    print(\"Number of followers:\", follower_count)\n",
        "\n",
        "    # Récupération de l'évolution du nombre de followers sur 7 jours\n",
        "    evolution_url = f\"https://twitter.com/{username}/followers\"\n",
        "    evolution_response = requests.get(evolution_url, headers=headers)\n",
        "    evolution_soup = BeautifulSoup(evolution_response.content, 'html.parser')\n",
        "    followers_evolution = evolution_soup.find_all('div', attrs={\"class\": \"css-1dbjc4n\"})\n",
        "    follower_data = [int(item.text.replace(',', '')) for item in followers_evolution if item.text.replace(',', '').isdigit()]\n",
        "    if len(follower_data) >= 7:\n",
        "        followers_last_week = follower_data[:7]\n",
        "        print(\"Followers last week:\", followers_last_week)\n",
        "    else:\n",
        "        print(\"Insufficient data for the past 7 days.\")"
      ],
      "metadata": {
        "id": "IWl_r5wuSDXT"
      },
      "execution_count": 7,
      "outputs": []
    },
    {
      "cell_type": "code",
      "source": [
        "if __name__ == \"__main__\":\n",
        "    username = \"RevolutApp\"\n",
        "    get_tweets(username)\n",
        "    #get_metrics(username)"
      ],
      "metadata": {
        "id": "U5eTZrp9SJ-v"
      },
      "execution_count": 9,
      "outputs": []
    }
  ]
}